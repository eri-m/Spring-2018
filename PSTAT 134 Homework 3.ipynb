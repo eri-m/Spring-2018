{
 "cells": [
  {
   "cell_type": "markdown",
   "metadata": {},
   "source": [
    "# Homework 3\n",
    "# Basketball Analytics: Distilling and Summarizing Information \n",
    "### Eri Martinez\n",
    "### TA: Sergio Rodriguez\n",
    "### Fri: 12pm"
   ]
  },
  {
   "cell_type": "code",
   "execution_count": null,
   "metadata": {},
   "outputs": [],
   "source": [
    "import numpy as np\n",
    "import pickle\n",
    "import matplotlib.pyplot as plt\n",
    "import subprocess as sp\n",
    "import helper_basketball as h\n",
    "import imp\n",
    "imp.reload(h);\n",
    "from scipy.cluster.hierarchy import dendrogram, linkage\n",
    "from scipy.spatial.distance import pdist"
   ]
  },
  {
   "cell_type": "markdown",
   "metadata": {},
   "source": [
    "## Preparing Data\n",
    "To begin, the matrix X is created and saved in a pickle file titled 'allpatterns2016-17.pkl'. Also, information about teams and their players is loaded for later use in analysis of shooting patterns."
   ]
  },
  {
   "cell_type": "code",
   "execution_count": null,
   "metadata": {},
   "outputs": [],
   "source": [
    "## get all 2016-17 teams\n",
    "params = {'LeagueID':'00','Season': '2016-17'}\n",
    "teams = h.get_nba_data('commonTeamYears', params).set_index('TEAM_ID')\n",
    "allteams = teams.loc[teams.MAX_YEAR=='2017'].index.values\n",
    "\n",
    "## get all 2016-17 players\n",
    "params = {'LeagueID':'00', 'Season': '2016-17', 'IsOnlyCurrentSeason': '0'}\n",
    "players = h.get_nba_data('commonallplayers', params).set_index('PERSON_ID')\n",
    "allplyrs = players.loc[players.TEAM_ID.isin(allteams)].index.values"
   ]
  },
  {
   "cell_type": "code",
   "execution_count": null,
   "metadata": {},
   "outputs": [],
   "source": [
    "allshots = pickle.load(open('allshots2016-17.pkl', 'rb'))\n",
    "allmade = allshots"
   ]
  },
  {
   "cell_type": "code",
   "execution_count": null,
   "metadata": {},
   "outputs": [],
   "source": [
    "#Bins are created to divide the court in order to calculate the matrix X\n",
    "player_ids = allmade.PlayerID.unique()\n",
    "num_players = player_ids.size\n",
    "\n",
    "nx = xedges.size - 1\n",
    "ny = yedges.size - 1\n",
    "\n",
    "xedges = (np.linspace(start=-25, stop=25, num=151, dtype=np.float)) * 12\n",
    "yedges = (np.linspace(start= -4, stop=31, num=106, dtype=np.float)) * 12\n",
    "\n",
    "all_counts = {}\n",
    "all_smooth = {}\n",
    "\n",
    "for i, one in enumerate(allmade.groupby('PlayerID')):\n",
    "    \n",
    "    pid, pdf = one\n",
    "    \n",
    "    tmp1, xedges, yedges = h.bin_shots(pdf, bin_edges=(xedges, yedges), density=True, sigma=2)\n",
    "    tmp2, xedges, yedges = h.bin_shots(pdf, bin_edges=(xedges, yedges), density=False)\n",
    "    \n",
    "    all_smooth[pid] = tmp1.reshape(-1)\n",
    "    all_counts[pid] = tmp2.reshape(-1)"
   ]
  },
  {
   "cell_type": "code",
   "execution_count": null,
   "metadata": {},
   "outputs": [],
   "source": [
    "#Here the matrix X is downloaded into a pickle file\n",
    "pickle.dump(np.stack(all_smooth.values()).T, open('allpatterns2016-17.pkl', 'wb'))\n",
    "X = pickle.load(open('allpatterns2016-17.pkl', 'rb'))"
   ]
  },
  {
   "cell_type": "markdown",
   "metadata": {},
   "source": [
    "# Problem 1\n"
   ]
  },
  {
   "cell_type": "markdown",
   "metadata": {},
   "source": [
    "The following show the first player's shooting pattern and their estimated shooting patterns. Each have a different r \n",
    "value, as well as thier norm difference."
   ]
  },
  {
   "cell_type": "code",
   "execution_count": null,
   "metadata": {},
   "outputs": [],
   "source": [
    "def non_negative_marix_decomp(n_components,train_data):\n",
    "    import sklearn.decomposition as skld\n",
    "    model = skld.NMF(n_components=n_components, init='nndsvda', max_iter=500, random_state=0)\n",
    "    W = model.fit_transform(train_data)\n",
    "    H = model.components_\n",
    "    nmf = (W,H)\n",
    "    return(nmf)\n"
   ]
  },
  {
   "cell_type": "code",
   "execution_count": null,
   "metadata": {},
   "outputs": [],
   "source": [
    "r = 5\n",
    "W_5,H_5 = non_negative_marix_decomp(n_components = r,train_data = X)\n",
    "X5_hat = np.matmul(W_5,H_5)\n",
    "fig, ax = plt.subplots(1,2, figsize=(20,60))\n",
    "h.plot_shotchart(X[:,2], xedges, yedges, ax=ax[0]) \n",
    "h.plot_shotchart(X5_hat[:,2], xedges, yedges, ax=ax[1])\n",
    "ax[0].set_title('Original Shooting Pattern for Player 1')\n",
    "ax[1].set_title('Estimated Shooting Pattern (r=5), Player 1')"
   ]
  },
  {
   "cell_type": "code",
   "execution_count": null,
   "metadata": {},
   "outputs": [],
   "source": [
    "r = 5\n",
    "W_5_2,H_5_2 = non_negative_marix_decomp(n_components = r,train_data = X)\n",
    "X5_hat_2 = np.matmul(W_5_2,H_5_2)\n",
    "fig, ax = plt.subplots(1,2, figsize=(20,60))\n",
    "h.plot_shotchart(X[:,5], xedges, yedges, ax=ax[0]) \n",
    "h.plot_shotchart(X5_hat_2[:,5], xedges, yedges, ax=ax[1])\n",
    "ax[0].set_title('Original Shooting Pattern for Player 2')\n",
    "ax[1].set_title('Estimated Shooting Pattern (r=5), Player 2')"
   ]
  },
  {
   "cell_type": "code",
   "execution_count": null,
   "metadata": {},
   "outputs": [],
   "source": [
    "#difference in norm for r=5\n",
    "from numpy import linalg as LA # To compute Frobenious norm\n",
    "LA.norm(X-np.matmul(W_5,H_5),'fro')"
   ]
  },
  {
   "cell_type": "code",
   "execution_count": null,
   "metadata": {},
   "outputs": [],
   "source": [
    "r = 15\n",
    "W_15,H_15 = non_negative_marix_decomp(n_components = r,train_data = X)\n",
    "X15_hat = np.matmul(W_15,H_15)\n",
    "fig, ax = plt.subplots(1,2, figsize=(20,60))\n",
    "h.plot_shotchart(X[:,2], xedges, yedges, ax=ax[0]) \n",
    "h.plot_shotchart(X15_hat[:,2], xedges, yedges, ax=ax[1])\n",
    "ax[0].set_title('Original Shooting Pattern for Player 1')\n",
    "ax[1].set_title('Estimated Shooting Pattern (r=15) for Player 1')"
   ]
  },
  {
   "cell_type": "code",
   "execution_count": null,
   "metadata": {},
   "outputs": [],
   "source": [
    "r = 15\n",
    "W_15_2,H_15_2 = non_negative_marix_decomp(n_components = r,train_data = X)\n",
    "X15_hat_2 = np.matmul(W_15_2,H_15_2)\n",
    "fig, ax = plt.subplots(1,2, figsize=(20,60))\n",
    "h.plot_shotchart(X[:,5], xedges, yedges, ax=ax[0]) \n",
    "h.plot_shotchart(X15_hat_2[:,5], xedges, yedges, ax=ax[1])\n",
    "ax[0].set_title('Original Shooting Pattern for Player 2')\n",
    "ax[1].set_title('Estimated Shooting Pattern (r=15) for Player 2')"
   ]
  },
  {
   "cell_type": "code",
   "execution_count": null,
   "metadata": {},
   "outputs": [],
   "source": [
    "#difference in norm for r=15\n",
    "from numpy import linalg as LA \n",
    "LA.norm(X-np.matmul(W_15,H_15),'fro')"
   ]
  },
  {
   "cell_type": "markdown",
   "metadata": {},
   "source": [
    "After analyzing the two players and the differences in the actual shooting pattern vs. the estimated shooting pattern, we see that the larger the r value, the more accurate the shooting pattern tends to be."
   ]
  },
  {
   "cell_type": "markdown",
   "metadata": {},
   "source": [
    "Here, we use a for loop to compare the various values of r to see which one is better. The one with the greatest decrease in error will be the best option."
   ]
  },
  {
   "cell_type": "code",
   "execution_count": null,
   "metadata": {},
   "outputs": [],
   "source": [
    "from numpy import linalg as LA \n",
    "r_values = np.arange(10)+1\n",
    "error_norm = []\n",
    "for r in r_values:\n",
    "    W,H = non_negative_marix_decomp(n_components = r,train_data = X)\n",
    "    error_norm.append(LA.norm(X-np.matmul(W,H),'fro'))"
   ]
  },
  {
   "cell_type": "code",
   "execution_count": null,
   "metadata": {},
   "outputs": [],
   "source": [
    "plt.ylabel('error_norm')\n",
    "plt.xlabel('r values')\n",
    "plt.plot(r_values,error_norm)"
   ]
  },
  {
   "cell_type": "markdown",
   "metadata": {},
   "source": [
    "From this we are able to see that an r around 3 may be the best choice in order to obtain the best results. Any value above 5 or 6 seems to be too large."
   ]
  },
  {
   "cell_type": "markdown",
   "metadata": {},
   "source": [
    "## Problem 2"
   ]
  },
  {
   "cell_type": "markdown",
   "metadata": {},
   "source": [
    "Next, we plot the correlation matrix of X to see which players are most correalted with each other."
   ]
  },
  {
   "cell_type": "code",
   "execution_count": null,
   "metadata": {},
   "outputs": [],
   "source": [
    "X_ = X[:,0:362].copy()\n",
    "R = np.corrcoef(X_,rowvar=0)"
   ]
  },
  {
   "cell_type": "code",
   "execution_count": null,
   "metadata": {},
   "outputs": [],
   "source": [
    "import seaborn as sns; sns.set()\n",
    "plt.subplots(figsize=(15,20))\n",
    "ax = sns.heatmap(R)"
   ]
  },
  {
   "cell_type": "markdown",
   "metadata": {},
   "source": [
    "## Players with the lowest and highest similarities"
   ]
  },
  {
   "cell_type": "markdown",
   "metadata": {},
   "source": [
    "The following code gives us the positions in the R correlation matrix with the highest and lowest similarities."
   ]
  },
  {
   "cell_type": "code",
   "execution_count": null,
   "metadata": {},
   "outputs": [],
   "source": [
    "highcorr=np.triu(R, k=1)\n",
    "min_=np.min(highcorr[np.nonzero(highcorr)])\n",
    "max_=np.max(highcorr)\n",
    "min_num=np.where(highcorr == min_)\n",
    "max_num=np.where(highcorr == max_)\n",
    "print(min_num)\n",
    "print(max_num)"
   ]
  },
  {
   "cell_type": "markdown",
   "metadata": {},
   "source": [
    "#### Lowest Correlated Shooting Patterns\n",
    "Next, we see get the names of the players with the lowest similarities."
   ]
  },
  {
   "cell_type": "code",
   "execution_count": null,
   "metadata": {},
   "outputs": [],
   "source": [
    "playerids=player_ids.tolist()\n",
    "min_one=playerids[23]\n",
    "min_one\n",
    "minplayone=players.get_value(min_one,\"DISPLAY_LAST_COMMA_FIRST\")\n",
    "print(minplayone)\n",
    "min_two=playerids[251]\n",
    "min_two\n",
    "minplaytwo=players.get_value(min_two,\"DISPLAY_LAST_COMMA_FIRST\")\n",
    "print(minplaytwo)"
   ]
  },
  {
   "cell_type": "code",
   "execution_count": null,
   "metadata": {},
   "outputs": [],
   "source": [
    "fig, ax= plt.subplots(1,2, figsize=(25,70))\n",
    "h.plot_shotchart(X[:,23], xedges, yedges, ax=ax[0])\n",
    "h.plot_shotchart(X[:,251], xedges, yedges, ax=ax[1])\n",
    "ax[0].set_title('Barton, Will Shooting Pattern')\n",
    "ax[1].set_title('Muscala, Mike Shooting Pattern')\n"
   ]
  },
  {
   "cell_type": "markdown",
   "metadata": {},
   "source": [
    "Here, we can see how different the two player's shooting patterns are. Will tends to shoot more where the hoop is, while Mike is more towards the outskirts of the shooting range."
   ]
  },
  {
   "cell_type": "markdown",
   "metadata": {},
   "source": [
    "#### Highest Correlated Shooting Patterns"
   ]
  },
  {
   "cell_type": "code",
   "execution_count": null,
   "metadata": {},
   "outputs": [],
   "source": [
    "max_one=playerids[235]\n",
    "maxplayone=players.get_value(max_one,\"DISPLAY_LAST_COMMA_FIRST\")\n",
    "print(maxplayone)\n",
    "max_two=playerids[283]\n",
    "maxplaytwo=players.get_value(max_two,\"DISPLAY_LAST_COMMA_FIRST\")\n",
    "print(maxplaytwo)"
   ]
  },
  {
   "cell_type": "code",
   "execution_count": null,
   "metadata": {},
   "outputs": [],
   "source": [
    "fig, ax= plt.subplots(1,2, figsize=(25,70))\n",
    "h.plot_shotchart(X[:,235], xedges, yedges, ax=ax[0])\n",
    "h.plot_shotchart(X[:,283], xedges, yedges, ax=ax[1])\n",
    "ax[0].set_title('Mejri, Salah Shooting Pattern')\n",
    "ax[1].set_title('Randolph, Zach Shooting Pattern')"
   ]
  },
  {
   "cell_type": "markdown",
   "metadata": {},
   "source": [
    "Here, we see that Salah and Zach have very similar shooting patterns, almost identical."
   ]
  },
  {
   "cell_type": "markdown",
   "metadata": {},
   "source": [
    "## Hierarchical Clustering"
   ]
  },
  {
   "cell_type": "code",
   "execution_count": null,
   "metadata": {},
   "outputs": [],
   "source": [
    "Z = linkage(X_.T,method='complete',metric='correlation')"
   ]
  },
  {
   "cell_type": "code",
   "execution_count": null,
   "metadata": {},
   "outputs": [],
   "source": [
    "plt.title('Hierarchical Clustering Dendrogram (truncated)')\n",
    "plt.xlabel('sample index')\n",
    "plt.ylabel('distance')\n",
    "dendrogram(\n",
    "    Z,\n",
    "    leaf_rotation=90.,\n",
    "    leaf_font_size=3.,\n",
    ")\n",
    "plt.show()"
   ]
  },
  {
   "cell_type": "code",
   "execution_count": null,
   "metadata": {},
   "outputs": [],
   "source": [
    "from scipy.cluster.hierarchy import fcluster\n",
    "no_max_clust = 10\n",
    "cluster_id = fcluster(Z,no_max_clust,criterion='maxclust')\n",
    "cluster_id"
   ]
  },
  {
   "cell_type": "code",
   "execution_count": null,
   "metadata": {},
   "outputs": [],
   "source": [
    "R_clust = np.corrcoef(X_test.T[np.argsort(cluster_id)])"
   ]
  },
  {
   "cell_type": "code",
   "execution_count": null,
   "metadata": {},
   "outputs": [],
   "source": [
    "plt.subplots(figsize=(20,15))\n",
    "ax = sns.heatmap(R_clust)"
   ]
  },
  {
   "cell_type": "markdown",
   "metadata": {},
   "source": [
    "## Problem 3"
   ]
  },
  {
   "cell_type": "markdown",
   "metadata": {},
   "source": [
    "The H columns tells us how important each of the basis vectors W are. Depending on the correlation between each player, we might be able to see which players are in which position based on the types of shots they made and where they made them from. Since certain players are assigned to specific positions, they are restricted to making shots from their respective position. Therefore, players with similar positions tend to have similar shooting patterns. Becaue the positions don't typically change much, the expected results can be like the ones mentioned in the paper. This can be seen in thhe hierarchical clustering and the way that the players are grouped together."
   ]
  },
  {
   "cell_type": "markdown",
   "metadata": {},
   "source": [
    "## Problem 4"
   ]
  },
  {
   "cell_type": "markdown",
   "metadata": {},
   "source": [
    "We could use this information to see which players are better matched up with each other. Depending on their correlation and their shooting style, we can pair up specific players on the court in order to help the team win more games. We could also potentially help predict the players shooting style for a particular game. "
   ]
  }
 ],
 "metadata": {
  "language_info": {
   "name": "python",
   "pygments_lexer": "ipython3"
  }
 },
 "nbformat": 4,
 "nbformat_minor": 2
}
